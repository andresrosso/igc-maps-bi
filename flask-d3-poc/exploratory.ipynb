{
 "cells": [
  {
   "cell_type": "code",
   "execution_count": 4,
   "source": [
    "import pandas as pd"
   ],
   "outputs": [],
   "metadata": {}
  },
  {
   "cell_type": "code",
   "execution_count": 6,
   "source": [
    "data = pd.read_csv('data/llamadas_bta.csv',sep=';')"
   ],
   "outputs": [
    {
     "output_type": "stream",
     "name": "stderr",
     "text": [
      "/home/andres/.local/lib/python3.7/site-packages/IPython/core/interactiveshell.py:3156: DtypeWarning: Columns (5) have mixed types.Specify dtype option on import or set low_memory=False.\n",
      "  interactivity=interactivity, compiler=compiler, result=result)\n"
     ]
    }
   ],
   "metadata": {}
  },
  {
   "cell_type": "code",
   "execution_count": 22,
   "source": [
    "data.columns\n",
    "localidades = data.LOCALIDAD.unique()\n",
    "print(localidades)"
   ],
   "outputs": [
    {
     "output_type": "stream",
     "name": "stdout",
     "text": [
      "['USAQUÉN' 'CHAPINERO' 'SANTA FE' 'SAN CRISTÓBAL' 'USME' 'TUNJUELITO'\n",
      " 'BOSA' 'KENNEDY' 'FONTIBÓN' 'ENGATIVÁ' 'SUBA' 'BARRIOS UNIDOS'\n",
      " 'TEUSAQUILLO' 'LOS MÁRTIRES' 'ANTONIO NARIÑO' 'PUENTE ARANDA'\n",
      " 'CANDELARIA' 'RAFAEL URIBE URIBE' 'CIUDAD BOLÍVAR' 'SIN LOCALIZACION'\n",
      " 'SUMAPAZ' '-']\n"
     ]
    }
   ],
   "metadata": {}
  },
  {
   "cell_type": "code",
   "execution_count": 21,
   "source": [
    "data.LOCALIDAD"
   ],
   "outputs": [
    {
     "output_type": "execute_result",
     "data": {
      "text/plain": [
       "0                  USAQUÉN\n",
       "1                  USAQUÉN\n",
       "2                  USAQUÉN\n",
       "3                  USAQUÉN\n",
       "4                  USAQUÉN\n",
       "                ...       \n",
       "620691    SIN LOCALIZACION\n",
       "620692    SIN LOCALIZACION\n",
       "620693    SIN LOCALIZACION\n",
       "620694    SIN LOCALIZACION\n",
       "620695    SIN LOCALIZACION\n",
       "Name: LOCALIDAD, Length: 620696, dtype: object"
      ]
     },
     "metadata": {},
     "execution_count": 21
    }
   ],
   "metadata": {}
  },
  {
   "cell_type": "code",
   "execution_count": null,
   "source": [],
   "outputs": [],
   "metadata": {}
  },
  {
   "cell_type": "code",
   "execution_count": null,
   "source": [],
   "outputs": [],
   "metadata": {}
  },
  {
   "cell_type": "code",
   "execution_count": null,
   "source": [],
   "outputs": [],
   "metadata": {}
  },
  {
   "cell_type": "code",
   "execution_count": null,
   "source": [],
   "outputs": [],
   "metadata": {}
  },
  {
   "cell_type": "code",
   "execution_count": null,
   "source": [],
   "outputs": [],
   "metadata": {}
  },
  {
   "cell_type": "code",
   "execution_count": null,
   "source": [],
   "outputs": [],
   "metadata": {}
  },
  {
   "cell_type": "code",
   "execution_count": null,
   "source": [],
   "outputs": [],
   "metadata": {}
  },
  {
   "cell_type": "code",
   "execution_count": 25,
   "source": [
    "filepath = 'input/'\n",
    "#read in data\n",
    "player_df = pd.read_csv(filepath + 'data.csv')\n",
    "team_df = pd.read_csv(filepath + 'teams_data.csv')\n",
    "Squad_a, Squad_b, Match = ['Manchester City','Arsenal', 'Arsenal vs. Manchester City']\n",
    "df = team_df[(team_df.Squad == Squad_a) | (team_df.Squad == Squad_b)]\n",
    "df['Match'] = Match\n",
    "print(df['Match'])"
   ],
   "outputs": [
    {
     "output_type": "stream",
     "name": "stdout",
     "text": [
      "1      Arsenal vs. Manchester City\n",
      "8      Arsenal vs. Manchester City\n",
      "26     Arsenal vs. Manchester City\n",
      "39     Arsenal vs. Manchester City\n",
      "44     Arsenal vs. Manchester City\n",
      "                  ...             \n",
      "727    Arsenal vs. Manchester City\n",
      "731    Arsenal vs. Manchester City\n",
      "735    Arsenal vs. Manchester City\n",
      "743    Arsenal vs. Manchester City\n",
      "752    Arsenal vs. Manchester City\n",
      "Name: Match, Length: 76, dtype: object\n"
     ]
    },
    {
     "output_type": "stream",
     "name": "stderr",
     "text": [
      "/home/andres/.local/lib/python3.7/site-packages/ipykernel_launcher.py:9: SettingWithCopyWarning: \n",
      "A value is trying to be set on a copy of a slice from a DataFrame.\n",
      "Try using .loc[row_indexer,col_indexer] = value instead\n",
      "\n",
      "See the caveats in the documentation: https://pandas.pydata.org/pandas-docs/stable/user_guide/indexing.html#returning-a-view-versus-a-copy\n",
      "  if __name__ == '__main__':\n"
     ]
    }
   ],
   "metadata": {}
  },
  {
   "cell_type": "code",
   "execution_count": 24,
   "source": [],
   "outputs": [
    {
     "output_type": "stream",
     "name": "stdout",
     "text": [
      "1      Arsenal vs. Manchester City\n",
      "8      Arsenal vs. Manchester City\n",
      "26     Arsenal vs. Manchester City\n",
      "39     Arsenal vs. Manchester City\n",
      "44     Arsenal vs. Manchester City\n",
      "                  ...             \n",
      "727    Arsenal vs. Manchester City\n",
      "731    Arsenal vs. Manchester City\n",
      "735    Arsenal vs. Manchester City\n",
      "743    Arsenal vs. Manchester City\n",
      "752    Arsenal vs. Manchester City\n",
      "Name: Match, Length: 76, dtype: object\n"
     ]
    },
    {
     "output_type": "stream",
     "name": "stderr",
     "text": [
      "/home/andres/.local/lib/python3.7/site-packages/ipykernel_launcher.py:4: SettingWithCopyWarning: \n",
      "A value is trying to be set on a copy of a slice from a DataFrame.\n",
      "Try using .loc[row_indexer,col_indexer] = value instead\n",
      "\n",
      "See the caveats in the documentation: https://pandas.pydata.org/pandas-docs/stable/user_guide/indexing.html#returning-a-view-versus-a-copy\n",
      "  after removing the cwd from sys.path.\n"
     ]
    }
   ],
   "metadata": {}
  }
 ],
 "metadata": {
  "orig_nbformat": 4,
  "language_info": {
   "name": "python",
   "version": "3.7.9",
   "mimetype": "text/x-python",
   "codemirror_mode": {
    "name": "ipython",
    "version": 3
   },
   "pygments_lexer": "ipython3",
   "nbconvert_exporter": "python",
   "file_extension": ".py"
  },
  "kernelspec": {
   "name": "python3",
   "display_name": "Python 3.7.9 64-bit ('tipologias': conda)"
  },
  "interpreter": {
   "hash": "02c8549071f329b14ccf1291e0edc9921f8f16765fe08494f4fd53f368f108a6"
  }
 },
 "nbformat": 4,
 "nbformat_minor": 2
}